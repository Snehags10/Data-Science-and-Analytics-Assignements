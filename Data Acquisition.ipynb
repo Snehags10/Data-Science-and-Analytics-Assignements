{
  "nbformat": 4,
  "nbformat_minor": 0,
  "metadata": {
    "colab": {
      "provenance": [],
      "authorship_tag": "ABX9TyOjO9jvGs6Fb1hKex2V0SD+",
      "include_colab_link": true
    },
    "kernelspec": {
      "name": "python3",
      "display_name": "Python 3"
    },
    "language_info": {
      "name": "python"
    }
  },
  "cells": [
    {
      "cell_type": "markdown",
      "metadata": {
        "id": "view-in-github",
        "colab_type": "text"
      },
      "source": [
        "<a href=\"https://colab.research.google.com/github/Snehags10/Data-Science-and-Analytics-Assignements/blob/main/Data%20Acquisition.ipynb\" target=\"_parent\"><img src=\"https://colab.research.google.com/assets/colab-badge.svg\" alt=\"Open In Colab\"/></a>"
      ]
    },
    {
      "cell_type": "code",
      "execution_count": 4,
      "metadata": {
        "id": "ZkcJcij2LI4z"
      },
      "outputs": [],
      "source": [
        "#health dataset\n",
        "# Find a Dataset:\n",
        "import pandas as pd\n",
        "df = pd.read_csv('/content/healthcare_dataset.csv')\n",
        ""
      ]
    },
    {
      "cell_type": "markdown",
      "source": [
        "Load the Dataset:"
      ],
      "metadata": {
        "id": "JT-4QUDUNfuK"
      }
    },
    {
      "cell_type": "code",
      "source": [
        "\n",
        "print(df.head)"
      ],
      "metadata": {
        "colab": {
          "base_uri": "https://localhost:8080/"
        },
        "id": "sgnW-K3BNMgk",
        "outputId": "ffb99996-85fb-41ec-a563-8928bdc28ad9"
      },
      "execution_count": 6,
      "outputs": [
        {
          "output_type": "stream",
          "name": "stdout",
          "text": [
            "<bound method NDFrame.head of                     Name  Age  Gender Blood Type Medical Condition  \\\n",
            "0          Bobby JacksOn   30    Male         B-            Cancer   \n",
            "1           LesLie TErRy   62    Male         A+           Obesity   \n",
            "2            DaNnY sMitH   76  Female         A-           Obesity   \n",
            "3           andrEw waTtS   28  Female         O+          Diabetes   \n",
            "4          adrIENNE bEll   43  Female        AB+            Cancer   \n",
            "...                  ...  ...     ...        ...               ...   \n",
            "55495  eLIZABeTH jaCkSOn   42  Female         O+            Asthma   \n",
            "55496         KYle pEREz   61  Female        AB-           Obesity   \n",
            "55497       HEATher WaNG   38  Female         B+      Hypertension   \n",
            "55498     JENniFER JOneS   43    Male         O-         Arthritis   \n",
            "55499       jAMES GARCiA   53  Female         O+         Arthritis   \n",
            "\n",
            "      Date of Admission            Doctor                      Hospital  \\\n",
            "0            2024-01-31     Matthew Smith               Sons and Miller   \n",
            "1            2019-08-20   Samantha Davies                       Kim Inc   \n",
            "2            2022-09-22  Tiffany Mitchell                      Cook PLC   \n",
            "3            2020-11-18       Kevin Wells    Hernandez Rogers and Vang,   \n",
            "4            2022-09-19    Kathleen Hanna                   White-White   \n",
            "...                 ...               ...                           ...   \n",
            "55495        2020-08-16     Joshua Jarvis                Jones-Thompson   \n",
            "55496        2020-01-23   Taylor Sullivan                  Tucker-Moyer   \n",
            "55497        2020-07-13    Joe Jacobs DVM  and Mahoney Johnson Vasquez,   \n",
            "55498        2019-05-25    Kimberly Curry      Jackson Todd and Castro,   \n",
            "55499        2024-04-02     Dennis Warren                Henry Sons and   \n",
            "\n",
            "      Insurance Provider  Billing Amount  Room Number Admission Type  \\\n",
            "0             Blue Cross    18856.281306          328         Urgent   \n",
            "1               Medicare    33643.327287          265      Emergency   \n",
            "2                  Aetna    27955.096079          205      Emergency   \n",
            "3               Medicare    37909.782410          450       Elective   \n",
            "4                  Aetna    14238.317814          458         Urgent   \n",
            "...                  ...             ...          ...            ...   \n",
            "55495         Blue Cross     2650.714952          417       Elective   \n",
            "55496              Cigna    31457.797307          316       Elective   \n",
            "55497   UnitedHealthcare    27620.764717          347         Urgent   \n",
            "55498           Medicare    32451.092358          321       Elective   \n",
            "55499              Aetna     4010.134172          448         Urgent   \n",
            "\n",
            "      Discharge Date   Medication  Test Results  \n",
            "0         2024-02-02  Paracetamol        Normal  \n",
            "1         2019-08-26    Ibuprofen  Inconclusive  \n",
            "2         2022-10-07      Aspirin        Normal  \n",
            "3         2020-12-18    Ibuprofen      Abnormal  \n",
            "4         2022-10-09   Penicillin      Abnormal  \n",
            "...              ...          ...           ...  \n",
            "55495     2020-09-15   Penicillin      Abnormal  \n",
            "55496     2020-02-01      Aspirin        Normal  \n",
            "55497     2020-08-10    Ibuprofen      Abnormal  \n",
            "55498     2019-05-31    Ibuprofen      Abnormal  \n",
            "55499     2024-04-29    Ibuprofen      Abnormal  \n",
            "\n",
            "[55500 rows x 15 columns]>\n"
          ]
        }
      ]
    },
    {
      "cell_type": "markdown",
      "source": [
        "Perform Initial Exploration:\n"
      ],
      "metadata": {
        "id": "9es915fRNwH1"
      }
    },
    {
      "cell_type": "code",
      "source": [
        "print(df.describe())"
      ],
      "metadata": {
        "colab": {
          "base_uri": "https://localhost:8080/"
        },
        "id": "1252W5ilNz2H",
        "outputId": "6e1060e4-a09e-4e55-c1c3-1ba01ac66b22"
      },
      "execution_count": 8,
      "outputs": [
        {
          "output_type": "stream",
          "name": "stdout",
          "text": [
            "                Age  Billing Amount   Room Number\n",
            "count  55500.000000    55500.000000  55500.000000\n",
            "mean      51.539459    25539.316097    301.134829\n",
            "std       19.602454    14211.454431    115.243069\n",
            "min       13.000000    -2008.492140    101.000000\n",
            "25%       35.000000    13241.224652    202.000000\n",
            "50%       52.000000    25538.069376    302.000000\n",
            "75%       68.000000    37820.508436    401.000000\n",
            "max       89.000000    52764.276736    500.000000\n"
          ]
        }
      ]
    },
    {
      "cell_type": "markdown",
      "source": [
        "What is the size of the dataset? (Number of rows and columns)\n"
      ],
      "metadata": {
        "id": "XK0rSRl1N22-"
      }
    },
    {
      "cell_type": "code",
      "source": [
        "rows, columns = df.shape\n",
        "\n",
        "# Print the number of rows and columns\n",
        "print(f'The dataset has {rows} rows and {columns} columns.')\n"
      ],
      "metadata": {
        "colab": {
          "base_uri": "https://localhost:8080/"
        },
        "id": "E3iHTTTpN4q9",
        "outputId": "0f6da0d8-b975-4bf8-a5b3-2bc5cccad899"
      },
      "execution_count": 9,
      "outputs": [
        {
          "output_type": "stream",
          "name": "stdout",
          "text": [
            "The dataset has 55500 rows and 15 columns.\n"
          ]
        }
      ]
    },
    {
      "cell_type": "markdown",
      "source": [
        "What are the data types of each column?\n"
      ],
      "metadata": {
        "id": "utJEN1hoN9uB"
      }
    },
    {
      "cell_type": "code",
      "source": [
        "print(df.dtypes)"
      ],
      "metadata": {
        "colab": {
          "base_uri": "https://localhost:8080/"
        },
        "id": "SJ8uPJ_-N-ve",
        "outputId": "ec611b69-4489-46c1-cc82-2c69c8615876"
      },
      "execution_count": 10,
      "outputs": [
        {
          "output_type": "stream",
          "name": "stdout",
          "text": [
            "Name                   object\n",
            "Age                     int64\n",
            "Gender                 object\n",
            "Blood Type             object\n",
            "Medical Condition      object\n",
            "Date of Admission      object\n",
            "Doctor                 object\n",
            "Hospital               object\n",
            "Insurance Provider     object\n",
            "Billing Amount        float64\n",
            "Room Number             int64\n",
            "Admission Type         object\n",
            "Discharge Date         object\n",
            "Medication             object\n",
            "Test Results           object\n",
            "dtype: object\n"
          ]
        }
      ]
    },
    {
      "cell_type": "markdown",
      "source": [
        "#Are there any missing values in the dataset? If so, which columns have\n",
        "\n"
      ],
      "metadata": {
        "id": "PDWRK_FdOCXY"
      }
    },
    {
      "cell_type": "code",
      "source": [
        "missing values and how many?\n",
        "missing_values = df.isnull().sum()\n",
        "print(missing_values[missing_values > 0])\n"
      ],
      "metadata": {
        "colab": {
          "base_uri": "https://localhost:8080/"
        },
        "id": "v_GBFUUzOJ0p",
        "outputId": "98d95482-660e-4b83-92e2-a74de0dbba59"
      },
      "execution_count": 11,
      "outputs": [
        {
          "output_type": "stream",
          "name": "stdout",
          "text": [
            "Object `many` not found.\n",
            "Series([], dtype: int64)\n"
          ]
        }
      ]
    },
    {
      "cell_type": "markdown",
      "source": [
        "What are the unique values in a categorical column of your choice? How many unique values are there?"
      ],
      "metadata": {
        "id": "QeLrz9AfONgI"
      }
    },
    {
      "cell_type": "code",
      "source": [
        "unique_values = df['Age'].unique()\n",
        "print(unique_values)\n",
        "num_unique_values = len(unique_values)\n",
        "print(\"count is \",num_unique_values)"
      ],
      "metadata": {
        "colab": {
          "base_uri": "https://localhost:8080/"
        },
        "id": "CAvfYFaeOOKr",
        "outputId": "d2358cd3-12a9-4438-d06f-d19af40a20ce"
      },
      "execution_count": 12,
      "outputs": [
        {
          "output_type": "stream",
          "name": "stdout",
          "text": [
            "[30 62 76 28 43 36 21 20 82 58 72 38 75 68 44 46 63 34 67 48 59 73 51 23\n",
            " 78 25 33 26 70 57 74 81 49 65 31 22 77 42 24 84 55 40 83 18 27 19 29 61\n",
            " 80 60 35 79 53 69 47 85 52 37 50 32 54 45 66 39 56 64 71 41 88 17 87 86\n",
            " 15 16 13 14 89]\n",
            "count is  77\n"
          ]
        }
      ]
    },
    {
      "cell_type": "markdown",
      "source": [
        "For a numerical column of your choice, calculate the mean, median, and standard deviation."
      ],
      "metadata": {
        "id": "2PoE9kVYORoE"
      }
    },
    {
      "cell_type": "code",
      "source": [
        "import pandas as pd\n",
        "df=pd.read_csv('/content/healthcare_dataset.csv')\n",
        "\n",
        "\n",
        "mean_age = df['Age'].mean()\n",
        "median_age = df['Age'].median()\n",
        "std_dev_age = df['Age'].std()\n",
        "\n",
        "print(\"Mean age:\", mean_age)\n",
        "print(\"Median age:\", median_age)\n",
        "print(\"Standard deviation of age:\", std_dev_age)\n",
        ""
      ],
      "metadata": {
        "colab": {
          "base_uri": "https://localhost:8080/"
        },
        "id": "-Y8keMOoOT06",
        "outputId": "70b6cbf4-2f3d-4701-d07d-94ad8d3a7985"
      },
      "execution_count": 13,
      "outputs": [
        {
          "output_type": "stream",
          "name": "stdout",
          "text": [
            "Mean age: 51.53945945945946\n",
            "Median age: 52.0\n",
            "Standard deviation of age: 19.602453808514348\n"
          ]
        }
      ]
    },
    {
      "cell_type": "markdown",
      "source": [
        "6: Identify any potential outliers in a numerical column of your choice. Explain your approach."
      ],
      "metadata": {
        "id": "2uM1IqZ9OYHh"
      }
    },
    {
      "cell_type": "code",
      "source": [
        "import pandas as pd\n",
        "\n",
        "Q1 = df['Age'].quantile(0.25)\n",
        "Q3 = df['Age'].quantile(0.75)\n",
        "IQR = Q3 - Q1\n",
        "\n",
        "lower_bound = Q1 - 1.5 * IQR\n",
        "upper_bound = Q3 + 1.5 * IQR\n",
        "\n",
        "outliers = df[(df['Age'] < lower_bound) | (df['Age'] > upper_bound)]\n",
        "\n",
        "print(\"Potential outliers in 'Age' column:\\n\", outliers)"
      ],
      "metadata": {
        "colab": {
          "base_uri": "https://localhost:8080/"
        },
        "id": "js3tly8oOhj6",
        "outputId": "4a9ef821-9e8c-41f5-8c1f-b92ed9c86bbc"
      },
      "execution_count": 14,
      "outputs": [
        {
          "output_type": "stream",
          "name": "stdout",
          "text": [
            "Potential outliers in 'Age' column:\n",
            " Empty DataFrame\n",
            "Columns: [Name, Age, Gender, Blood Type, Medical Condition, Date of Admission, Doctor, Hospital, Insurance Provider, Billing Amount, Room Number, Admission Type, Discharge Date, Medication, Test Results]\n",
            "Index: []\n"
          ]
        }
      ]
    },
    {
      "cell_type": "markdown",
      "source": [
        "Find the correlation between numerical columns and discuss any interesting relationships"
      ],
      "metadata": {
        "id": "FF2EOMt9Oo0N"
      }
    },
    {
      "cell_type": "code",
      "source": [
        "correlation_matrix = df.head()\n",
        "\n",
        "print(\"Correlation matrix:\")\n",
        "print(correlation_matrix)"
      ],
      "metadata": {
        "colab": {
          "base_uri": "https://localhost:8080/"
        },
        "id": "6tinDJd3Ornd",
        "outputId": "0b1a4fd1-3ecf-4e6d-c771-ed196a71f4eb"
      },
      "execution_count": 15,
      "outputs": [
        {
          "output_type": "stream",
          "name": "stdout",
          "text": [
            "Correlation matrix:\n",
            "            Name  Age  Gender Blood Type Medical Condition Date of Admission  \\\n",
            "0  Bobby JacksOn   30    Male         B-            Cancer        2024-01-31   \n",
            "1   LesLie TErRy   62    Male         A+           Obesity        2019-08-20   \n",
            "2    DaNnY sMitH   76  Female         A-           Obesity        2022-09-22   \n",
            "3   andrEw waTtS   28  Female         O+          Diabetes        2020-11-18   \n",
            "4  adrIENNE bEll   43  Female        AB+            Cancer        2022-09-19   \n",
            "\n",
            "             Doctor                    Hospital Insurance Provider  \\\n",
            "0     Matthew Smith             Sons and Miller         Blue Cross   \n",
            "1   Samantha Davies                     Kim Inc           Medicare   \n",
            "2  Tiffany Mitchell                    Cook PLC              Aetna   \n",
            "3       Kevin Wells  Hernandez Rogers and Vang,           Medicare   \n",
            "4    Kathleen Hanna                 White-White              Aetna   \n",
            "\n",
            "   Billing Amount  Room Number Admission Type Discharge Date   Medication  \\\n",
            "0    18856.281306          328         Urgent     2024-02-02  Paracetamol   \n",
            "1    33643.327287          265      Emergency     2019-08-26    Ibuprofen   \n",
            "2    27955.096079          205      Emergency     2022-10-07      Aspirin   \n",
            "3    37909.782410          450       Elective     2020-12-18    Ibuprofen   \n",
            "4    14238.317814          458         Urgent     2022-10-09   Penicillin   \n",
            "\n",
            "   Test Results  \n",
            "0        Normal  \n",
            "1  Inconclusive  \n",
            "2        Normal  \n",
            "3      Abnormal  \n",
            "4      Abnormal  \n"
          ]
        }
      ]
    },
    {
      "cell_type": "markdown",
      "source": [
        "Group the data by a categorical column and compute the aggregate statistics (e.g., mean, sum) for a numerical column."
      ],
      "metadata": {
        "id": "BI-PfPk1Ote-"
      }
    },
    {
      "cell_type": "code",
      "source": [
        "grouped_by_Name = df.groupby('Name')['Age'].mean()\n",
        "\n",
        "print(grouped_by_Name)\n",
        "grouped_by_Medication = df.groupby('Medication')['Doctor'].sum()\n",
        "\n",
        "print(grouped_by_Medication)\n"
      ],
      "metadata": {
        "colab": {
          "base_uri": "https://localhost:8080/"
        },
        "id": "Xi2BbbLLOwX1",
        "outputId": "2ff38301-5e59-4160-82b5-b90cd36f0abf"
      },
      "execution_count": 16,
      "outputs": [
        {
          "output_type": "stream",
          "name": "stdout",
          "text": [
            "Name\n",
            "AARON DuncAn         22.0\n",
            "AARON HicKS          76.0\n",
            "AARON bAldWIN Jr.    20.0\n",
            "AARON hAWkIns        69.0\n",
            "AAROn HaRt           18.0\n",
            "                     ... \n",
            "zachaRy huLL         53.0\n",
            "zachaRy oDOM         52.0\n",
            "zachaRy raMirEZ      58.0\n",
            "zacharY BauTista     44.5\n",
            "zachary WALl         73.0\n",
            "Name: Age, Length: 49992, dtype: float64\n",
            "Medication\n",
            "Aspirin        Tiffany MitchellDaniel FergusonMaria Dougherty...\n",
            "Ibuprofen      Samantha DaviesKevin WellsTaylor NewtonWendy G...\n",
            "Lipitor        Douglas MayoTheresa FreemanGregory SmithVaness...\n",
            "Paracetamol    Matthew SmithKelly OlsonSuzanne ThomasHeather ...\n",
            "Penicillin     Kathleen HannaKenneth FletcherDenise GallowayJ...\n",
            "Name: Doctor, dtype: object\n"
          ]
        }
      ]
    },
    {
      "cell_type": "markdown",
      "source": [
        "Based on your analysis, provide a brief summary of any insights or patterns you discovered in the dataset.\n",
        "\n",
        "The dataset provides comprehensive information about patients' healthcare experiences, encompassing various aspects from personal details to specific medical and administrative data. It includes columns such as the patient's name, age, gender, and blood type, which offer basic demographic information. The dataset also covers medical details like the primary condition diagnosed, the medication prescribed, and the results of medical tests, indicating the patient's health status during admission. Administrative details such as the date of admission, discharge date, type of admission, and the specific hospital and doctor involved provide insights into the healthcare process. Additionally, financial aspects are captured through the insurance provider and billing amount, while logistical information is provided through the room number. This dataset is rich in detail, offering a holistic view of each patient's healthcare journey, from admission to discharge."
      ],
      "metadata": {
        "id": "lMHffHCbOzkw"
      }
    },
    {
      "cell_type": "code",
      "source": [],
      "metadata": {
        "id": "X59-C2tKPbEk"
      },
      "execution_count": null,
      "outputs": []
    }
  ]
}