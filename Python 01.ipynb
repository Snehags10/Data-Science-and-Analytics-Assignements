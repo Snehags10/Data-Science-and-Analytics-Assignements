{
  "nbformat": 4,
  "nbformat_minor": 0,
  "metadata": {
    "colab": {
      "provenance": [],
      "authorship_tag": "ABX9TyMBdF5f0t7VRht8Wwso5QcZ",
      "include_colab_link": true
    },
    "kernelspec": {
      "name": "python3",
      "display_name": "Python 3"
    },
    "language_info": {
      "name": "python"
    }
  },
  "cells": [
    {
      "cell_type": "markdown",
      "metadata": {
        "id": "view-in-github",
        "colab_type": "text"
      },
      "source": [
        "<a href=\"https://colab.research.google.com/github/Snehags10/Data-Science-and-Analytics-Assignements/blob/main/Python%2001.ipynb\" target=\"_parent\"><img src=\"https://colab.research.google.com/assets/colab-badge.svg\" alt=\"Open In Colab\"/></a>"
      ]
    },
    {
      "cell_type": "markdown",
      "source": [
        "Given the string \"Hello, World!\", extract and print the substring \"Hello"
      ],
      "metadata": {
        "id": "dNvohGKQKWx7"
      }
    },
    {
      "cell_type": "code",
      "source": [
        "text = \"Hello, World!\"\n",
        "substring = text[:5]\n",
        "print(substring)"
      ],
      "metadata": {
        "colab": {
          "base_uri": "https://localhost:8080/"
        },
        "id": "oIE5ZG5QKYLM",
        "outputId": "9de886d4-43e2-4a15-8ebd-ecd7a0774662"
      },
      "execution_count": null,
      "outputs": [
        {
          "output_type": "stream",
          "name": "stdout",
          "text": [
            "Hello\n"
          ]
        }
      ]
    },
    {
      "cell_type": "markdown",
      "source": [
        ". Given the string \"Python is fun\", extract and print the substring \"is\"."
      ],
      "metadata": {
        "id": "gBB5_DYZKjv7"
      }
    },
    {
      "cell_type": "code",
      "source": [
        "\n",
        "text = \"Python is fun\"\n",
        "substring = text[7:9]\n",
        "print(substring)"
      ],
      "metadata": {
        "colab": {
          "base_uri": "https://localhost:8080/"
        },
        "id": "K6FUQqp8KpDx",
        "outputId": "205a83d1-31dd-431b-8a74-af223e6a998a"
      },
      "execution_count": null,
      "outputs": [
        {
          "output_type": "stream",
          "name": "stdout",
          "text": [
            "is\n"
          ]
        }
      ]
    },
    {
      "cell_type": "markdown",
      "source": [
        "Given the string \"Programming\", extract and print the substring \"gram\" using slicing indices."
      ],
      "metadata": {
        "id": "TQJJzuGeKycB"
      }
    },
    {
      "cell_type": "code",
      "source": [
        "\n",
        "text = \"Programming\"\n",
        "substring = text[3:7]\n",
        "print(substring)"
      ],
      "metadata": {
        "id": "J27eEp1yK8MK",
        "colab": {
          "base_uri": "https://localhost:8080/"
        },
        "outputId": "5643b6fa-8d60-4579-c811-de8eac9fad89"
      },
      "execution_count": 3,
      "outputs": [
        {
          "output_type": "stream",
          "name": "stdout",
          "text": [
            "gram\n"
          ]
        }
      ]
    },
    {
      "cell_type": "markdown",
      "source": [
        "Given the string \"abcdefgh\", use slicing to print only the characters at even indices."
      ],
      "metadata": {
        "id": "gOJvetArLKkl"
      }
    },
    {
      "cell_type": "code",
      "source": [
        "text = \"abcdefgh\"\n",
        "even_indices = text[0::2]\n",
        "print(even_indices)"
      ],
      "metadata": {
        "colab": {
          "base_uri": "https://localhost:8080/"
        },
        "id": "uWRSkTstLZZ4",
        "outputId": "f37956ad-d9e6-4f07-f79b-ac4391b2332b"
      },
      "execution_count": 4,
      "outputs": [
        {
          "output_type": "stream",
          "name": "stdout",
          "text": [
            "aceg\n"
          ]
        }
      ]
    },
    {
      "cell_type": "markdown",
      "source": [
        "Given the string \"abcdefg\", use negative indices to extract and print the substring \"efg\"."
      ],
      "metadata": {
        "id": "7hXSgdkULlQe"
      }
    },
    {
      "cell_type": "code",
      "source": [
        "text = \"abcdefg\"\n",
        "substring = text[-3:]\n",
        "print(substring)"
      ],
      "metadata": {
        "colab": {
          "base_uri": "https://localhost:8080/"
        },
        "id": "8U5daq6GLtrM",
        "outputId": "18518f74-7b6d-4117-8503-bf63e6dffe65"
      },
      "execution_count": 5,
      "outputs": [
        {
          "output_type": "stream",
          "name": "stdout",
          "text": [
            "efg\n"
          ]
        }
      ]
    },
    {
      "cell_type": "markdown",
      "source": [
        "Given the string \"Data Science\", use negative indices to extract and print the last three characters"
      ],
      "metadata": {
        "id": "8JsjdPhkL5rj"
      }
    },
    {
      "cell_type": "code",
      "source": [
        "text = \"Data Science\"\n",
        "substring = text[-3:]\n",
        "print(substring)"
      ],
      "metadata": {
        "colab": {
          "base_uri": "https://localhost:8080/"
        },
        "id": "ZWiqszPPMPmD",
        "outputId": "c5d51768-4960-49f0-fd09-a4b9367e8b77"
      },
      "execution_count": 6,
      "outputs": [
        {
          "output_type": "stream",
          "name": "stdout",
          "text": [
            "nce\n"
          ]
        }
      ]
    },
    {
      "cell_type": "markdown",
      "source": [
        "Given the string \"abcdefghij\", use slicing with a step to print every second character."
      ],
      "metadata": {
        "id": "VM64BOo9Ngqy"
      }
    },
    {
      "cell_type": "code",
      "source": [
        "\n",
        "text = \"abcdefghij\"\n",
        "every_second_char = text[::2]\n",
        "print(every_second_char)"
      ],
      "metadata": {
        "colab": {
          "base_uri": "https://localhost:8080/"
        },
        "id": "Y8iBPJB-Nhc3",
        "outputId": "e966242f-108e-4909-8944-ab8333b51dc2"
      },
      "execution_count": 7,
      "outputs": [
        {
          "output_type": "stream",
          "name": "stdout",
          "text": [
            "acegi\n"
          ]
        }
      ]
    },
    {
      "cell_type": "markdown",
      "source": [
        "print every second character. 8. Given the string \"1234567890\", use slicing with a step to print the odd digits."
      ],
      "metadata": {
        "id": "S4ZFTjXsNoM-"
      }
    },
    {
      "cell_type": "code",
      "source": [
        "text = \"1234567890\"\n",
        "odd_digits = text[::2]\n",
        "print(odd_digits)"
      ],
      "metadata": {
        "colab": {
          "base_uri": "https://localhost:8080/"
        },
        "id": "Cyg7S0rBNu9o",
        "outputId": "0d1a29a7-cd19-40a3-d227-ccc2c18c6323"
      },
      "execution_count": 8,
      "outputs": [
        {
          "output_type": "stream",
          "name": "stdout",
          "text": [
            "13579\n"
          ]
        }
      ]
    },
    {
      "cell_type": "code",
      "source": [
        "\n",
        "#Given the string \"Hello\", use slicing to print the string in reverse order.\n",
        "\n",
        "text = \"Hello\"\n",
        "reversed_text = text[::-1]\n",
        "print(reversed_text)"
      ],
      "metadata": {
        "colab": {
          "base_uri": "https://localhost:8080/"
        },
        "id": "4hAuopp4N0wV",
        "outputId": "c70ef31d-74bf-46f2-c4db-ca36356c418f"
      },
      "execution_count": 11,
      "outputs": [
        {
          "output_type": "stream",
          "name": "stdout",
          "text": [
            "olleH\n"
          ]
        }
      ]
    },
    {
      "cell_type": "code",
      "source": [
        "#Given the string \"abcdefghijk\", extract and print the substring \"acegik\" using slicing.\n",
        "\n",
        "\n",
        "text = \"abcdefghijk\"\n",
        "substring = text[::2]\n",
        "print(substring)"
      ],
      "metadata": {
        "colab": {
          "base_uri": "https://localhost:8080/"
        },
        "id": "p3UAnz95OAi5",
        "outputId": "a6af0d2d-7f65-46e4-c689-80668b8423e2"
      },
      "execution_count": 13,
      "outputs": [
        {
          "output_type": "stream",
          "name": "stdout",
          "text": [
            "acegik\n"
          ]
        }
      ]
    },
    {
      "cell_type": "code",
      "source": [
        "#Write a program to find sum of all elements in a list of integers.\n",
        "\n",
        "\n",
        "\n",
        "numbers = [1, 2, 3, 4, 5]\n",
        "\n",
        "\n",
        "total_sum = sum(numbers)\n",
        "\n",
        "\n",
        "print(\"The sum of all elements in the list is:\", total_sum)"
      ],
      "metadata": {
        "colab": {
          "base_uri": "https://localhost:8080/"
        },
        "id": "RmdzL6mDOLbx",
        "outputId": "096ac149-f60f-454e-f70e-a4852d6c0c1d"
      },
      "execution_count": 14,
      "outputs": [
        {
          "output_type": "stream",
          "name": "stdout",
          "text": [
            "The sum of all elements in the list is: 15\n"
          ]
        }
      ]
    },
    {
      "cell_type": "code",
      "source": [
        "#Input a sentence as a string. a) Print its length b) Print the first half of string\n",
        "\n",
        "\n",
        "\n",
        "sentence = input(\"Enter a sentence: \")\n",
        "\n",
        "\n",
        "length = len(sentence)\n",
        "print(\"Length of the sentence:\", length)\n",
        "\n",
        "\n",
        "half_length = length // 2\n",
        "first_half = sentence[:half_length]\n",
        "print(\"First half of the sentence:\", first_half)"
      ],
      "metadata": {
        "colab": {
          "base_uri": "https://localhost:8080/"
        },
        "id": "HyRpC3ThObGk",
        "outputId": "d061cbe4-6b1f-492e-d390-f62b1b78ee7b"
      },
      "execution_count": 16,
      "outputs": [
        {
          "output_type": "stream",
          "name": "stdout",
          "text": [
            "Enter a sentence: Hi hello\n",
            "Length of the sentence: 8\n",
            "First half of the sentence: Hi h\n"
          ]
        }
      ]
    },
    {
      "cell_type": "code",
      "source": [
        "#Write a program to enter a tuple of integers as (78,45,32,19,82,77,40,39). Change the third value in the tuple to 100\n",
        "\n",
        "\n",
        "\n",
        "original_tuple = (78, 45, 32, 19, 82, 77, 40, 39)\n",
        "\n",
        "\n",
        "temp_list = list(original_tuple)\n",
        "\n",
        "\n",
        "temp_list[2] = 100\n",
        "\n",
        "modified_tuple = tuple(temp_list)\n",
        "\n",
        "print(\"Modified tuple:\", modified_tuple)"
      ],
      "metadata": {
        "colab": {
          "base_uri": "https://localhost:8080/"
        },
        "id": "CXX5eoglQXMI",
        "outputId": "9c68aca3-0192-4211-9e47-cabb0bdae168"
      },
      "execution_count": 17,
      "outputs": [
        {
          "output_type": "stream",
          "name": "stdout",
          "text": [
            "Modified tuple: (78, 45, 100, 19, 82, 77, 40, 39)\n"
          ]
        }
      ]
    },
    {
      "cell_type": "code",
      "source": [
        "#Consider a list listA=[19,32,10,55,31,32,94,29,10,65,77,40,40] (a) Delete the first occurrence of 32 (b) Delete all occurrences of 40 (c) Delete the value at index=5 (d) Modify the value at index=9 as 300 (e) Add 200 at index=2 (f) Print the final list with its length, maximum value and sum of all elements\n",
        "\n",
        "\n",
        "\n",
        "listA = [19, 32, 10, 55, 31, 32, 94, 29, 10, 65, 77, 40, 40]\n",
        "\n",
        "# (a)\n",
        "if 32 in listA:\n",
        "    listA.remove(32)\n",
        "\n",
        "# (b)\n",
        "listA = [x for x in listA if x != 40]\n",
        "\n",
        "# (c)\n",
        "if len(listA) > 5:\n",
        "    del listA[5]\n",
        "\n",
        "# (d)\n",
        "if len(listA) > 9:\n",
        "    listA[9] = 300\n",
        "\n",
        "# (e)\n",
        "listA.insert(2, 200)\n",
        "\n",
        "# (f)\n",
        "print(\"Final list:\", listA)\n",
        "print(\"Length of the list:\", len(listA))\n",
        "print(\"Maximum value in the list:\", max(listA))\n",
        "print(\"Sum of all elements in the list\")"
      ],
      "metadata": {
        "colab": {
          "base_uri": "https://localhost:8080/"
        },
        "id": "wLR8FDjnQjXQ",
        "outputId": "df227da8-749c-477e-ae0c-97cbaac9b10d"
      },
      "execution_count": 20,
      "outputs": [
        {
          "output_type": "stream",
          "name": "stdout",
          "text": [
            "Final list: [19, 10, 200, 55, 31, 32, 29, 10, 65, 77]\n",
            "Length of the list: 10\n",
            "Maximum value in the list: 200\n",
            "Sum of all elements in the list\n"
          ]
        }
      ]
    },
    {
      "cell_type": "code",
      "source": [
        "#Consider a string ”The day has been long”. (a) Delete the value at index =4 (b) Print the string 4 times in a single line with space between each repetition (c) Print the string 3 times in a new line each time (d) Modify the string at index 7 as ’A’ (e) Print the string from index 4 to 15 (f) Print the final string with its length\n",
        "\n",
        "\n",
        "\n",
        "\n",
        "text = \"The day has been long\"\n",
        "\n",
        "# (a)\n",
        "text_a = text[:4] + text[5:]\n",
        "\n",
        "# (b)\n",
        "print(text * 4)\n",
        "\n",
        "# (c)\n",
        "for _ in range(3):\n",
        "    print(text)\n",
        "\n",
        "# (d)\n",
        "text_d = text[:7] + 'A' + text[8:]\n",
        "\n",
        "# (e)\n",
        "print(text[4:16])\n",
        "\n",
        "# (f)\n",
        "print(\"Final string:\", text_d)\n",
        "print(\"Length of the final string:\", len(text_d))"
      ],
      "metadata": {
        "colab": {
          "base_uri": "https://localhost:8080/"
        },
        "id": "qsNE_eT9RQ1W",
        "outputId": "29fd714b-88be-484b-f683-9bf9ce4b328d"
      },
      "execution_count": 22,
      "outputs": [
        {
          "output_type": "stream",
          "name": "stdout",
          "text": [
            "The day has been longThe day has been longThe day has been longThe day has been long\n",
            "The day has been long\n",
            "The day has been long\n",
            "The day has been long\n",
            "day has been\n",
            "Final string: The dayAhas been long\n",
            "Length of the final string: 21\n"
          ]
        }
      ]
    }
  ]
}