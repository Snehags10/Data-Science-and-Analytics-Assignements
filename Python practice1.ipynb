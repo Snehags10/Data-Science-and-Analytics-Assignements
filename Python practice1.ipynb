{
  "cells": [
    {
      "cell_type": "markdown",
      "metadata": {
        "id": "view-in-github",
        "colab_type": "text"
      },
      "source": [
        "<a href=\"https://colab.research.google.com/github/Snehags10/Data-Science-and-Analytics-Assignements/blob/main/Python%20practice1.ipynb\" target=\"_parent\"><img src=\"https://colab.research.google.com/assets/colab-badge.svg\" alt=\"Open In Colab\"/></a>"
      ]
    },
    {
      "cell_type": "markdown",
      "source": [
        "1.Write a Python program which accepts the radius of a circle from the user\n",
        "and compute the area.\n",
        "Sample input: Enter the radius: 3\n",
        "Sample output: Area of Circle is 28.59999999999"
      ],
      "metadata": {
        "id": "GFp1GPdCgJVz"
      }
    },
    {
      "cell_type": "code",
      "source": [
        "import math\n",
        "\n",
        "radius = float(input(\"Enter the radius: \"))\n",
        "\n",
        "area = math.pi * radius ** 2\n",
        "\n",
        "print(\"Area of Circle is\", area)\n"
      ],
      "metadata": {
        "id": "g6bKmkcDgNPe",
        "outputId": "514665c0-2098-4f68-a16a-e01f0c2a3598",
        "colab": {
          "base_uri": "https://localhost:8080/"
        }
      },
      "execution_count": null,
      "outputs": [
        {
          "output_type": "stream",
          "name": "stdout",
          "text": [
            "Enter the radius: 3\n",
            "Area of Circle is 28.274333882308138\n"
          ]
        }
      ]
    },
    {
      "cell_type": "markdown",
      "source": [
        "2.Write a Python Program to accept the details of a student like name, roll\n",
        "number and mark and display it.\n",
        "Sample input: Enter the name: Anisha\n",
        "Enter the roll number: 21\n",
        "Enter the mark: 78\n",
        "Sample output: Name: Anisha\n",
        "Roll No: 21\n",
        "Mark: 78"
      ],
      "metadata": {
        "id": "cO75zZwBgU2C"
      }
    },
    {
      "cell_type": "code",
      "source": [
        "\n",
        "name = input(\"Enter the name: \")\n",
        "roll_number = input(\"Enter the roll number: \")\n",
        "mark = input(\"Enter the mark: \")\n",
        "print(\"\\nName:\", name)\n",
        "print(\"Roll No:\", roll_number)\n",
        "print(\"Mark:\", mark)\n"
      ],
      "metadata": {
        "id": "1qxcOYFUgYEP",
        "outputId": "1431b779-03d3-4869-8ccd-874d8d2521f8",
        "colab": {
          "base_uri": "https://localhost:8080/"
        }
      },
      "execution_count": null,
      "outputs": [
        {
          "output_type": "stream",
          "name": "stdout",
          "text": [
            "Enter the name: Anisha\n",
            "Enter the roll number: 21\n",
            "Enter the mark: 78\n",
            "\n",
            "Name: Anisha\n",
            "Roll No: 21\n",
            "Mark: 78\n"
          ]
        }
      ]
    },
    {
      "cell_type": "markdown",
      "source": [
        "3. Write a Python program to get the largest number from a list.\n",
        "Sample input: 12, 3, 47, 10\n",
        "Sample output: 47 is the largest number\n"
      ],
      "metadata": {
        "id": "-dT3pCQmgoeV"
      }
    },
    {
      "cell_type": "code",
      "source": [
        "\n",
        "numbers = input(\"Enter numbers separated by commas: \")\n",
        "\n",
        "number_list = [int(num) for num in numbers.split(',')]\n",
        "\n",
        "largest_number = max(number_list)\n",
        "print(f\"{largest_number} is the largest number\")\n"
      ],
      "metadata": {
        "id": "d0Q6foSbgrpE",
        "outputId": "f843be49-9f6b-4ecf-f268-c4260faa5afb",
        "colab": {
          "base_uri": "https://localhost:8080/"
        }
      },
      "execution_count": null,
      "outputs": [
        {
          "output_type": "stream",
          "name": "stdout",
          "text": [
            "Enter numbers separated by commas: 12,3,47,10\n",
            "47 is the largest number\n"
          ]
        }
      ]
    },
    {
      "cell_type": "markdown",
      "source": [
        "4.Given a range of first 10 numbers, write a Python program to iterate from\n",
        "start number to the end number and print the sum of the current number\n",
        "and previous number.\n",
        "Sample input: 1….10\n",
        "Sample output: Current Number 1 Previous Number 0 Sum: 1 Current\n",
        "Number 2 Previous Number 1 Sum: 3 Current Number 3 Previous\n",
        "Number 2 Sum: 5… Current Number 10 Previous Number 9 Sum: 19"
      ],
      "metadata": {
        "id": "6g5gH1aDg8aT"
      }
    },
    {
      "cell_type": "code",
      "source": [
        "\n",
        "prev_num = 0\n",
        "\n",
        "for curr_num in range(1, 11):\n",
        "    total = curr_num + prev_num\n",
        "    print(f\"Current Number {curr_num} Previous Number {prev_num} Sum: {total}\")\n",
        "    prev_num = curr_num\n"
      ],
      "metadata": {
        "id": "LP9EXbeohDDd",
        "outputId": "b7099a7b-681b-4f1b-f472-8a48c5b22a13",
        "colab": {
          "base_uri": "https://localhost:8080/"
        }
      },
      "execution_count": null,
      "outputs": [
        {
          "output_type": "stream",
          "name": "stdout",
          "text": [
            "Current Number 1 Previous Number 0 Sum: 1\n",
            "Current Number 2 Previous Number 1 Sum: 3\n",
            "Current Number 3 Previous Number 2 Sum: 5\n",
            "Current Number 4 Previous Number 3 Sum: 7\n",
            "Current Number 5 Previous Number 4 Sum: 9\n",
            "Current Number 6 Previous Number 5 Sum: 11\n",
            "Current Number 7 Previous Number 6 Sum: 13\n",
            "Current Number 8 Previous Number 7 Sum: 15\n",
            "Current Number 9 Previous Number 8 Sum: 17\n",
            "Current Number 10 Previous Number 9 Sum: 19\n"
          ]
        }
      ]
    },
    {
      "cell_type": "markdown",
      "source": [
        "5. Write a Python program to print only those numbers which are divisible\n",
        "of 5.\n",
        "Sample input: 10, 20,33,46,55 Sample output: 10, 20, 55"
      ],
      "metadata": {
        "id": "bg884pzWht_7"
      }
    },
    {
      "cell_type": "code",
      "source": [
        "\n",
        "numbers = input(\"Enter numbers separated by commas: \")\n",
        "number_list = [int(num) for num in numbers.split(',')]\n",
        "divisible_by_five = [num for num in number_list if num % 5 == 0]\n",
        "print(\"Numbers divisible by 5:\", \", \".join(map(str, divisible_by_five)))\n"
      ],
      "metadata": {
        "id": "Mqgja1VghzEg",
        "outputId": "1aac5dda-02cc-4d17-bcb6-2b707ea785d2",
        "colab": {
          "base_uri": "https://localhost:8080/"
        }
      },
      "execution_count": null,
      "outputs": [
        {
          "output_type": "stream",
          "name": "stdout",
          "text": [
            "Enter numbers separated by commas: 10, 20,33,46,55 \n",
            "Numbers divisible by 5: 10, 20, 55\n"
          ]
        }
      ]
    },
    {
      "cell_type": "markdown",
      "source": [
        "6. Write a Python program to check whether a number is prime or not.\n",
        "Sample input: Enter the number: 3\n",
        "Sample output: 3 is a prime number."
      ],
      "metadata": {
        "id": "BqAS61FjiAk_"
      }
    },
    {
      "cell_type": "code",
      "source": [
        "\n",
        "def is_prime(number):\n",
        "    if number <= 1:\n",
        "        return False\n",
        "    for i in range(2, int(number ** 0.5) + 1):\n",
        "        if number % i == 0:\n",
        "            return False\n",
        "    return True\n",
        "num = int(input(\"Enter the number: \"))\n",
        "if is_prime(num):\n",
        "    print(f\"{num} is a prime number.\")\n",
        "else:\n",
        "    print(f\"{num} is not a prime number.\")\n"
      ],
      "metadata": {
        "id": "d_skBkYWiDav",
        "outputId": "b690673f-7c16-44ec-e6c4-3ffa14e9f01d",
        "colab": {
          "base_uri": "https://localhost:8080/"
        }
      },
      "execution_count": null,
      "outputs": [
        {
          "output_type": "stream",
          "name": "stdout",
          "text": [
            "Enter the number: 3\n",
            "3 is a prime number.\n"
          ]
        }
      ]
    },
    {
      "cell_type": "markdown",
      "source": [
        "7. Write a Python program to reverse a list using for loop.\n",
        "Sample input: 10,40,30,70\n",
        "Sample output: 70,30,40,10\n"
      ],
      "metadata": {
        "id": "cjPeWRu_iTeZ"
      }
    },
    {
      "cell_type": "code",
      "source": [
        "\n",
        "numbers = input(\"Enter numbers separated by commas: \")\n",
        "number_list = [int(num) for num in numbers.split(',')]\n",
        "reversed_list = []\n",
        "for i in range(len(number_list) - 1, -1, -1):\n",
        "    reversed_list.append(number_list[i])\n",
        "print(\"Reversed list:\", \", \".join(map(str, reversed_list)))\n"
      ],
      "metadata": {
        "id": "CCgtwi58iV15",
        "outputId": "825ef7ac-ce24-4c57-fbca-e5667408f0d6",
        "colab": {
          "base_uri": "https://localhost:8080/"
        }
      },
      "execution_count": null,
      "outputs": [
        {
          "output_type": "stream",
          "name": "stdout",
          "text": [
            "Enter numbers separated by commas: 10,40,30,70 \n",
            "Reversed list: 70, 30, 40, 10\n"
          ]
        }
      ]
    },
    {
      "cell_type": "markdown",
      "source": [
        "8. Write a Python program to print the following pattern.\n",
        "*\n",
        "**\n",
        "***\n",
        "****"
      ],
      "metadata": {
        "id": "IpuGx11Gimvx"
      }
    },
    {
      "cell_type": "code",
      "source": [
        "rows = 4\n",
        "for i in range(1, rows + 1):\n",
        "    print('*' * i)\n"
      ],
      "metadata": {
        "id": "69JDZlaxirgY",
        "outputId": "cf7cd78b-fd77-48bd-ad7b-f13737525530",
        "colab": {
          "base_uri": "https://localhost:8080/"
        }
      },
      "execution_count": null,
      "outputs": [
        {
          "output_type": "stream",
          "name": "stdout",
          "text": [
            "*\n",
            "**\n",
            "***\n",
            "****\n"
          ]
        }
      ]
    },
    {
      "cell_type": "markdown",
      "source": [
        "9. Write a Python program to find the maximum of three numbers\n",
        "Sample input: 34,12,7\n",
        "Sample output: 34\n"
      ],
      "metadata": {
        "id": "G8s7xG6ci3ib"
      }
    },
    {
      "cell_type": "code",
      "source": [
        "num1, num2, num3 = map(int, input(\"Enter three numbers separated by commas: \").split(','))\n",
        "maximum = max(num1, num2, num3)\n",
        "print(\"The maximum number is:\", maximum)\n"
      ],
      "metadata": {
        "id": "UQv5EBSEi4Vp",
        "outputId": "d2717d34-2985-4292-aa04-e6e72fc6fbae",
        "colab": {
          "base_uri": "https://localhost:8080/"
        }
      },
      "execution_count": null,
      "outputs": [
        {
          "output_type": "stream",
          "name": "stdout",
          "text": [
            "Enter three numbers separated by commas: 34,12,7 \n",
            "The maximum number is: 34\n"
          ]
        }
      ]
    },
    {
      "cell_type": "markdown",
      "source": [
        "10. Write a Python program to construct the following pattern, using a\n",
        "nested for loop.\n",
        "*\n",
        "**\n",
        "***\n",
        "****\n",
        "*****\n",
        "****\n",
        "***\n",
        "**\n",
        "*"
      ],
      "metadata": {
        "id": "Kx0WavzjjHOf"
      }
    },
    {
      "cell_type": "code",
      "source": [
        "rows = 5\n",
        "for i in range(1, rows + 1):\n",
        "    print('*' * i)\n",
        "for i in range(rows - 1, 0, -1):\n",
        "    print('*' * i)\n"
      ],
      "metadata": {
        "id": "0pmmVSdtjIDG",
        "outputId": "ca6164bd-2ebb-40cd-95f0-927a02809422",
        "colab": {
          "base_uri": "https://localhost:8080/"
        }
      },
      "execution_count": null,
      "outputs": [
        {
          "output_type": "stream",
          "name": "stdout",
          "text": [
            "*\n",
            "**\n",
            "***\n",
            "****\n",
            "*****\n",
            "****\n",
            "***\n",
            "**\n",
            "*\n"
          ]
        }
      ]
    }
  ],
  "metadata": {
    "colab": {
      "toc_visible": true,
      "provenance": [],
      "include_colab_link": true
    },
    "kernelspec": {
      "display_name": "Python 3",
      "name": "python3"
    }
  },
  "nbformat": 4,
  "nbformat_minor": 0
}