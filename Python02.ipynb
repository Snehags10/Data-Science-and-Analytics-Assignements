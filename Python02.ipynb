{
  "nbformat": 4,
  "nbformat_minor": 0,
  "metadata": {
    "colab": {
      "provenance": [],
      "authorship_tag": "ABX9TyOQSvg04ndaN28LpQiKJlDn",
      "include_colab_link": true
    },
    "kernelspec": {
      "name": "python3",
      "display_name": "Python 3"
    },
    "language_info": {
      "name": "python"
    }
  },
  "cells": [
    {
      "cell_type": "markdown",
      "metadata": {
        "id": "view-in-github",
        "colab_type": "text"
      },
      "source": [
        "<a href=\"https://colab.research.google.com/github/Snehags10/Data-Science-and-Analytics-Assignements/blob/main/Python02.ipynb\" target=\"_parent\"><img src=\"https://colab.research.google.com/assets/colab-badge.svg\" alt=\"Open In Colab\"/></a>"
      ]
    },
    {
      "cell_type": "code",
      "execution_count": 2,
      "metadata": {
        "colab": {
          "base_uri": "https://localhost:8080/"
        },
        "id": "BxGXa43mTDi4",
        "outputId": "3d5e213c-c834-4e76-ca37-476fe44bf612"
      },
      "outputs": [
        {
          "output_type": "stream",
          "name": "stdout",
          "text": [
            "Enter the age of the first person: 23\n",
            "Enter the age of the second person: 27\n",
            "Enter the age of the third person: 13\n",
            "The oldest age is: 27\n",
            "The youngest age is: 13\n"
          ]
        }
      ],
      "source": [
        "#Take input of age of 3 people by user and determine oldest and youngest among them.\n",
        "\n",
        "\n",
        "\n",
        "age1 = int(input(\"Enter the age of the first person: \"))\n",
        "age2 = int(input(\"Enter the age of the second person: \"))\n",
        "age3 = int(input(\"Enter the age of the third person: \"))\n",
        "\n",
        "\n",
        "ages = [age1, age2, age3]\n",
        "oldest = max(ages)\n",
        "youngest = min(ages)\n",
        "\n",
        "\n",
        "print(\"The oldest age is:\", oldest)\n",
        "print(\"The youngest age is:\", youngest)"
      ]
    },
    {
      "cell_type": "code",
      "source": [
        "#Write a program that asks the user for their exam score and calculates their grade based on the following conditions: a. A score of 90 or above is an A. b. A score between 80 and 89 is a B. c. A score between 70 and 79 is a C. d. A score below 70 is an F.\n",
        "\n",
        "\n",
        "\n",
        "score = int(input(\"Enter your exam score: \"))\n",
        "\n",
        "\n",
        "if score >= 90:\n",
        "    grade = 'A'\n",
        "elif score >= 80:\n",
        "    grade = 'B'\n",
        "elif score >= 70:\n",
        "    grade = 'C'\n",
        "else:\n",
        "    grade = 'F'\n",
        "\n",
        "print(\"Your grade is:\", grade)"
      ],
      "metadata": {
        "colab": {
          "base_uri": "https://localhost:8080/"
        },
        "id": "xZPver2QTmgG",
        "outputId": "ed70a05a-072d-4cf4-eadc-dd6805fdf4dd"
      },
      "execution_count": 3,
      "outputs": [
        {
          "output_type": "stream",
          "name": "stdout",
          "text": [
            "Enter your exam score: 65\n",
            "Your grade is: F\n"
          ]
        }
      ]
    },
    {
      "cell_type": "code",
      "source": [
        "#Create a program that asks the user for a list of grocery items they need to buy and organizes the list alphabetically\n",
        "\n",
        "\n",
        "\n",
        "grocery_list = input(\"Enter your grocery items separated by commas: \")\n",
        "\n",
        "\n",
        "items = [item.strip() for item in grocery_list.split(',')]\n",
        "\n",
        "items.sort()\n",
        "print(\"Sorted grocery list:\")\n",
        "for item in items:\n",
        "    print(item)"
      ],
      "metadata": {
        "colab": {
          "base_uri": "https://localhost:8080/"
        },
        "id": "wpIBUVUST9BW",
        "outputId": "21c5e77c-d6f3-4622-fd64-026407603dd8"
      },
      "execution_count": 4,
      "outputs": [
        {
          "output_type": "stream",
          "name": "stdout",
          "text": [
            "Enter your grocery items separated by commas: vegetables,bucket,mug,bottle,kettle,cup\n",
            "Sorted grocery list:\n",
            "bottle\n",
            "bucket\n",
            "cup\n",
            "kettle\n",
            "mug\n",
            "vegetables\n"
          ]
        }
      ]
    },
    {
      "cell_type": "code",
      "source": [
        "#Write a program that asks the user for an email address and checks if it is valid (contains an \"@\" symbol and a valid domain).\n",
        "\n",
        "\n",
        "\n",
        "email = input(\"Enter your email address: \")\n",
        "\n",
        "\n",
        "if \"@\" in email and email.count(\"@\") == 1:\n",
        "    local_part, domain_part = email.split(\"@\")\n",
        "    if \".\" in domain_part:\n",
        "        print(\"The email address is valid.\")\n",
        "    else:\n",
        "        print(\"The email address is invalid. Domain part must contain a dot.\")\n",
        "else:\n",
        "    print(\"The email address is invalid. It must contain exactly one '@' symbol.\")"
      ],
      "metadata": {
        "colab": {
          "base_uri": "https://localhost:8080/"
        },
        "id": "8oi9y-XLULB_",
        "outputId": "cfcae8b9-f294-42ea-e95e-22e36493e518"
      },
      "execution_count": 5,
      "outputs": [
        {
          "output_type": "stream",
          "name": "stdout",
          "text": [
            "Enter your email address: Snh@gh\n",
            "The email address is invalid. Domain part must contain a dot.\n"
          ]
        }
      ]
    },
    {
      "cell_type": "code",
      "source": [
        "#Create a program that asks the user for the number of days they have delayed returning a library book. If the delay is less than or equal to 7 days, there is no fine. If the delay is between 8 and 30 days, apply a fine of 2 rupees per day. If the delay is more than 30 days, apply a fine of 5 rupees per day. Print the total fine amount.\n",
        "\n",
        "\n",
        "\n",
        "delayed_days = int(input(\"Enter the number of days the book is delayed: \"))\n",
        "\n",
        "\n",
        "if delayed_days <= 7:\n",
        "    fine = 0\n",
        "elif 8 <= delayed_days <= 30:\n",
        "    fine = (delayed_days - 7) * 2\n",
        "else:\n",
        "    fine = (delayed_days - 30) * 5 + (30 - 7) * 2\n",
        "\n",
        "\n",
        "print(\"The total fine amount is:\", fine, \"rupees\")"
      ],
      "metadata": {
        "colab": {
          "base_uri": "https://localhost:8080/"
        },
        "id": "NB8exf-EUjzj",
        "outputId": "456c37a2-b9ba-4776-fe27-615f61d5ef4c"
      },
      "execution_count": 6,
      "outputs": [
        {
          "output_type": "stream",
          "name": "stdout",
          "text": [
            "Enter the number of days the book is delayed: 76\n",
            "The total fine amount is: 276 rupees\n"
          ]
        }
      ]
    },
    {
      "cell_type": "code",
      "source": [
        "#Write a program that checks if a given character is a vowel. Use the in operator to check if the character is present in a string of vowels (\"aeiou\").\n",
        "\n",
        "\n",
        "\n",
        "char = input(\"Enter a character: \").lower()\n",
        "\n",
        "\n",
        "vowels = \"aeiou\"\n",
        "\n",
        "if char in vowels:\n",
        "    print(char, \"is a vowel.\")\n",
        "else:\n",
        "    print(char, \"is not a vowel.\")"
      ],
      "metadata": {
        "colab": {
          "base_uri": "https://localhost:8080/"
        },
        "id": "_Z-7oEevU2__",
        "outputId": "fe6430fe-aeca-4aa9-f03d-60fd2845e7f0"
      },
      "execution_count": 7,
      "outputs": [
        {
          "output_type": "stream",
          "name": "stdout",
          "text": [
            "Enter a character: aeiou\n",
            "aeiou is a vowel.\n"
          ]
        }
      ]
    },
    {
      "cell_type": "code",
      "source": [
        "#Implement a program that calculates the factorial of a number using a loop.\n",
        "\n",
        "\n",
        "\n",
        "number = int(input(\"Enter a number to calculate its factorial: \"))\n",
        "\n",
        "factorial = 1\n",
        "\n",
        "\n",
        "for i in range(1, number + 1):\n",
        "    factorial *= i\n",
        "print(f\"The factorial of {number} is {factorial}.\")"
      ],
      "metadata": {
        "colab": {
          "base_uri": "https://localhost:8080/"
        },
        "id": "s4ahd1_UU-Wb",
        "outputId": "6c198695-5b2b-46c3-a3fa-c9d524e853ae"
      },
      "execution_count": 8,
      "outputs": [
        {
          "output_type": "stream",
          "name": "stdout",
          "text": [
            "Enter a number to calculate its factorial: 6\n",
            "The factorial of 6 is 720.\n"
          ]
        }
      ]
    },
    {
      "cell_type": "code",
      "source": [
        "#Generate the Fibonacci sequence (0, 1, 1, 2, 3, ...) up to a certain limit using a loop.\n",
        "\n",
        "\n",
        "\n",
        "limit = int(input(\"Enter the limit for the Fibonacci sequence: \"))\n",
        "\n",
        "a, b = 0, 1\n",
        "print(\"Fibonacci sequence up to\", limit, \":\")\n",
        "while a <= limit:\n",
        "    print(a, end=\" \")\n",
        "    a, b = b, a + b"
      ],
      "metadata": {
        "colab": {
          "base_uri": "https://localhost:8080/"
        },
        "id": "pu59ZC3eVO2E",
        "outputId": "37c98a03-1808-4ad6-a3f9-47b2d1773f2c"
      },
      "execution_count": 9,
      "outputs": [
        {
          "output_type": "stream",
          "name": "stdout",
          "text": [
            "Enter the limit for the Fibonacci sequence: 20\n",
            "Fibonacci sequence up to 20 :\n",
            "0 1 1 2 3 5 8 13 "
          ]
        }
      ]
    },
    {
      "cell_type": "code",
      "source": [
        "#Create a number guessing game where the computer generates a random number and the user has to guess it within a certain number of attempts using a loop.\n",
        "\n",
        "\n",
        "import random\n",
        "\n",
        "\n",
        "lower_bound = 1\n",
        "upper_bound = 100\n",
        "\n",
        "\n",
        "target_number = random.randint(lower_bound, upper_bound)\n",
        "\n",
        "\n",
        "max_attempts = 5\n",
        "attempts = 0\n",
        "\n",
        "print(f\"Guess the number between {lower_bound} and {upper_bound}. You have {max_attempts} attempts.\")\n",
        "\n",
        "while attempts < max_attempts:\n",
        "\n",
        "    guess = int(input(\"Enter your guess: \"))\n",
        "    attempts += 1\n",
        "\n",
        "\n",
        "    if guess < target_number:\n",
        "        print(\"Too low! Try again.\")\n",
        "    elif guess > target_number:\n",
        "        print(\"Too high! Try again.\")\n",
        "    else:\n",
        "        print(f\"Congratulations! You guessed the number {target_number} correctly in {attempts} attempts.\")\n",
        "        break\n",
        "else:\n",
        "\n",
        "    print(f\"Sorry, you've used all your attempts. The number was {target_number}.\")"
      ],
      "metadata": {
        "colab": {
          "base_uri": "https://localhost:8080/"
        },
        "id": "1QewrjNhVSYs",
        "outputId": "9761675e-726e-4140-de6c-45d2633fcf2c"
      },
      "execution_count": 11,
      "outputs": [
        {
          "output_type": "stream",
          "name": "stdout",
          "text": [
            "Guess the number between 1 and 100. You have 5 attempts.\n",
            "Enter your guess: 76\n",
            "Too high! Try again.\n",
            "Enter your guess: 34\n",
            "Too low! Try again.\n",
            "Enter your guess: 56\n",
            "Too low! Try again.\n",
            "Enter your guess: 87\n",
            "Too high! Try again.\n",
            "Enter your guess: 34\n",
            "Too low! Try again.\n",
            "Sorry, you've used all your attempts. The number was 60.\n"
          ]
        }
      ]
    },
    {
      "cell_type": "code",
      "source": [
        "#Write a menu driven calculator with following menu: a. Addition b. Subtraction c. Division d. Multiplication e. Exit\n",
        "\n",
        "\n",
        "\n",
        "def calculator():\n",
        "    while True:\n",
        "\n",
        "        print(\"Menu:\")\n",
        "        print(\"a. Addition\")\n",
        "        print(\"b. Subtraction\")\n",
        "        print(\"c. Division\")\n",
        "        print(\"d. Multiplication\")\n",
        "        print(\"e. Exit\")\n",
        "\n",
        "\n",
        "        choice = input(\"Enter your choice (a/b/c/d/e): \").lower()\n",
        "\n",
        "\n",
        "        if choice == 'e':\n",
        "            print(\"Exiting the calculator. Goodbye!\")\n",
        "            break\n",
        "\n",
        "\n",
        "        if choice in ['a', 'b', 'c', 'd']:\n",
        "\n",
        "            num1 = float(input(\"Enter the first number: \"))\n",
        "            num2 = float(input(\"Enter the second number: \"))\n",
        "\n",
        "\n",
        "            if choice == 'a':\n",
        "                result = num1 + num2\n",
        "                print(f\"The result of addition is: {result}\")\n",
        "            elif choice == 'b':\n",
        "                result = num1 - num2\n",
        "                print(f\"The result of subtraction is: {result}\")\n",
        "            elif choice == 'c':\n",
        "                if num2 != 0:\n",
        "                    result = num1 / num2\n",
        "                    print(f\"The result of division is: {result}\")\n",
        "                else:\n",
        "                    print(\"Error: Division by zero is not allowed.\")\n",
        "            elif choice == 'd':\n",
        "                result = num1 * num2\n",
        "                print(f\"The result of multiplication is: {result}\")\n",
        "        else:\n",
        "            print(\"Invalid choice. Please select a valid option.\")\n",
        "\n",
        "calculator()"
      ],
      "metadata": {
        "colab": {
          "base_uri": "https://localhost:8080/"
        },
        "id": "zRFI0YVmVuJB",
        "outputId": "5174bafd-6484-4e44-ae2b-355a1403ce32"
      },
      "execution_count": 12,
      "outputs": [
        {
          "output_type": "stream",
          "name": "stdout",
          "text": [
            "Menu:\n",
            "a. Addition\n",
            "b. Subtraction\n",
            "c. Division\n",
            "d. Multiplication\n",
            "e. Exit\n",
            "Enter your choice (a/b/c/d/e): 4/5/6/7\n",
            "Invalid choice. Please select a valid option.\n",
            "Menu:\n",
            "a. Addition\n",
            "b. Subtraction\n",
            "c. Division\n",
            "d. Multiplication\n",
            "e. Exit\n",
            "Enter your choice (a/b/c/d/e): a\n",
            "Enter the first number: 2\n",
            "Enter the second number: 3\n",
            "The result of addition is: 5.0\n",
            "Menu:\n",
            "a. Addition\n",
            "b. Subtraction\n",
            "c. Division\n",
            "d. Multiplication\n",
            "e. Exit\n",
            "Enter your choice (a/b/c/d/e): b\n",
            "Enter the first number: 3\n",
            "Enter the second number: 4\n",
            "The result of subtraction is: -1.0\n",
            "Menu:\n",
            "a. Addition\n",
            "b. Subtraction\n",
            "c. Division\n",
            "d. Multiplication\n",
            "e. Exit\n",
            "Enter your choice (a/b/c/d/e): c\n",
            "Enter the first number: 5\n",
            "Enter the second number: 2\n",
            "The result of division is: 2.5\n",
            "Menu:\n",
            "a. Addition\n",
            "b. Subtraction\n",
            "c. Division\n",
            "d. Multiplication\n",
            "e. Exit\n",
            "Enter your choice (a/b/c/d/e): d\n",
            "Enter the first number: 2\n",
            "Enter the second number: 3\n",
            "The result of multiplication is: 6.0\n",
            "Menu:\n",
            "a. Addition\n",
            "b. Subtraction\n",
            "c. Division\n",
            "d. Multiplication\n",
            "e. Exit\n",
            "Enter your choice (a/b/c/d/e): e\n",
            "Exiting the calculator. Goodbye!\n"
          ]
        }
      ]
    }
  ]
}