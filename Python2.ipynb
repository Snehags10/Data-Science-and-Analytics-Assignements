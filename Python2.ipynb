{
  "nbformat": 4,
  "nbformat_minor": 0,
  "metadata": {
    "colab": {
      "provenance": [],
      "authorship_tag": "ABX9TyOS52I+BsOwbOyefc/1O063",
      "include_colab_link": true
    },
    "kernelspec": {
      "name": "python3",
      "display_name": "Python 3"
    },
    "language_info": {
      "name": "python"
    }
  },
  "cells": [
    {
      "cell_type": "markdown",
      "metadata": {
        "id": "view-in-github",
        "colab_type": "text"
      },
      "source": [
        "<a href=\"https://colab.research.google.com/github/Snehags10/Data-Science-and-Analytics-Assignements/blob/main/Python2.ipynb\" target=\"_parent\"><img src=\"https://colab.research.google.com/assets/colab-badge.svg\" alt=\"Open In Colab\"/></a>"
      ]
    },
    {
      "cell_type": "markdown",
      "source": [
        "Write a Python program to accept a string value from the user and display the count of each character in that string. Sample input: Enter a string value: assembly Sample output: a=1, s=2, e=1, m=1, b=1, l=1, y=1"
      ],
      "metadata": {
        "id": "qiwgLTZprRa9"
      }
    },
    {
      "cell_type": "code",
      "source": [
        "user_string = input(\"Enter a string value: \")\n",
        "\n",
        "char_count = {}\n",
        "\n",
        "for char in user_string:\n",
        "    if char in char_count:\n",
        "        char_count[char] += 1\n",
        "    else:\n",
        "        char_count[char] = 1\n",
        "for char, count in char_count.items():\n",
        "    print(f\"{char}={count}\", end=\", \")"
      ],
      "metadata": {
        "colab": {
          "base_uri": "https://localhost:8080/"
        },
        "id": "09amO-yyrTY8",
        "outputId": "2e7d48c7-10a2-4968-b429-05ee148fa0af"
      },
      "execution_count": 1,
      "outputs": [
        {
          "output_type": "stream",
          "name": "stdout",
          "text": [
            "Enter a string value: assembly\n",
            "a=1, s=2, e=1, m=1, b=1, l=1, y=1, "
          ]
        }
      ]
    },
    {
      "cell_type": "markdown",
      "source": [
        "Write a Python function to find the maximum of three numbers Sample input: 34,12,7 Sample output: 34"
      ],
      "metadata": {
        "id": "XVzIEw0QrimF"
      }
    },
    {
      "cell_type": "code",
      "source": [
        "def find_maximum(num1, num2, num3):\n",
        "\n",
        "    maximum = max(num1, num2, num3)\n",
        "    return maximum\n",
        "\n",
        "\n",
        "result = find_maximum(34, 12, 7)\n",
        "print(\"The maximum number is:\", result)\n"
      ],
      "metadata": {
        "colab": {
          "base_uri": "https://localhost:8080/"
        },
        "id": "wcj6QyFjrlNI",
        "outputId": "80774e91-a628-43db-bb08-86ea48995000"
      },
      "execution_count": 2,
      "outputs": [
        {
          "output_type": "stream",
          "name": "stdout",
          "text": [
            "The maximum number is: 34\n"
          ]
        }
      ]
    },
    {
      "cell_type": "markdown",
      "source": [
        "Write a Python function called exponent(base,exp) that returns an integer value of base raises to the power of exp. Sample input: Enter the base: 2 Enter the exponent: 3 Sample output: 8"
      ],
      "metadata": {
        "id": "z0r5xAtfrrRe"
      }
    },
    {
      "cell_type": "code",
      "source": [
        "def exponent(base, exp):\n",
        "    return base ** exp\n",
        "\n",
        "base = int(input(\"Enter the base: \"))\n",
        "exp = int(input(\"Enter the exponent: \"))\n",
        "result = exponent(base, exp)\n",
        "print(\"Result:\", result)"
      ],
      "metadata": {
        "colab": {
          "base_uri": "https://localhost:8080/"
        },
        "id": "hF8HkKc0rt40",
        "outputId": "ffc9611e-f141-499b-e5cd-9d84d5bd5309"
      },
      "execution_count": 3,
      "outputs": [
        {
          "output_type": "stream",
          "name": "stdout",
          "text": [
            "Enter the base: 2\n",
            "Enter the exponent: 3\n",
            "Result: 8\n"
          ]
        }
      ]
    },
    {
      "cell_type": "markdown",
      "source": [
        "Write a Python function that takes a positive integer and returns the sum of the cube of all the positive integers smaller than the specified number. Sample input: 4 Sample output: 36."
      ],
      "metadata": {
        "id": "fEDYpwdYrzG5"
      }
    },
    {
      "cell_type": "code",
      "source": [
        "def sum_of_cubes(n):\n",
        "    total = 0\n",
        "    for i in range(1, n):\n",
        "        total += i ** 3\n",
        "    return total\n",
        "number = int(input(\"Enter a positive integer: \"))\n",
        "result = sum_of_cubes(number)\n",
        "print(\"The sum of the cubes is:\", result)"
      ],
      "metadata": {
        "colab": {
          "base_uri": "https://localhost:8080/"
        },
        "id": "AL9Cr3XPr1Na",
        "outputId": "eb7cb576-09a2-4baf-a207-336d28d52627"
      },
      "execution_count": 4,
      "outputs": [
        {
          "output_type": "stream",
          "name": "stdout",
          "text": [
            "Enter a positive integer: 4\n",
            "The sum of the cubes is: 36\n"
          ]
        }
      ]
    },
    {
      "cell_type": "markdown",
      "source": [
        "Write a Python program which iterates from 1 to 10. For multiples of 2, print “Fizz” instead of the number and for the multiples of 5, print “Buzz”. For numbers which are multiples of both 2 and 5, print “FizzBuzz”. Sample input: numbers from 1 to 10 Sample output: 1 Fizz 3 Fizz Buzz Fizz 7 Fizz 9 FizzBuzz"
      ],
      "metadata": {
        "id": "Hg6ydPdFr-SC"
      }
    },
    {
      "cell_type": "code",
      "source": [
        "for i in range(1, 11):\n",
        "    if i % 2 == 0 and i % 5 == 0:\n",
        "        print(\"FizzBuzz\")\n",
        "    elif i % 2 == 0:\n",
        "        print(\"Fizz\")\n",
        "    elif i % 5 == 0:\n",
        "        print(\"Buzz\")\n",
        "    else:\n",
        "        print(i)\n"
      ],
      "metadata": {
        "colab": {
          "base_uri": "https://localhost:8080/"
        },
        "id": "duqv-c-vsAWy",
        "outputId": "5d35cca6-9f28-4f64-a0ce-ba5f20bf475c"
      },
      "execution_count": 5,
      "outputs": [
        {
          "output_type": "stream",
          "name": "stdout",
          "text": [
            "1\n",
            "Fizz\n",
            "3\n",
            "Fizz\n",
            "Buzz\n",
            "Fizz\n",
            "7\n",
            "Fizz\n",
            "9\n",
            "FizzBuzz\n"
          ]
        }
      ]
    },
    {
      "cell_type": "markdown",
      "source": [
        "Write a Python program to find the most frequent item in a list of numbers. Sample input: 2, 3, 4, 2, 5, 2 Sample output: 2"
      ],
      "metadata": {
        "id": "Gbmjv4oEsHd4"
      }
    },
    {
      "cell_type": "code",
      "source": [
        "\n",
        "def most_frequent(numbers):\n",
        "\n",
        "    count_dict = {}\n",
        "\n",
        "    for num in numbers:\n",
        "        if num in count_dict:\n",
        "            count_dict[num] += 1\n",
        "        else:\n",
        "            count_dict[num] = 1\n",
        "\n",
        "\n",
        "    most_frequent_num = max(count_dict, key=count_dict.get)\n",
        "\n",
        "    return most_frequent_num\n",
        "\n",
        "\n",
        "numbers = [2, 3, 4, 2, 5, 2]\n",
        "result = most_frequent(numbers)\n",
        "print(\"The most frequent item is:\", result)"
      ],
      "metadata": {
        "colab": {
          "base_uri": "https://localhost:8080/"
        },
        "id": "kx3lvGLEsLlU",
        "outputId": "1d180cc8-3099-45f3-baba-b166b42ff1c9"
      },
      "execution_count": 6,
      "outputs": [
        {
          "output_type": "stream",
          "name": "stdout",
          "text": [
            "The most frequent item is: 2\n"
          ]
        }
      ]
    },
    {
      "cell_type": "markdown",
      "source": [
        "Sample input: 2,1,3,1 Sample output: 15"
      ],
      "metadata": {
        "id": "Fk7H3hNOsO7k"
      }
    },
    {
      "cell_type": "code",
      "source": [
        "numbers = [2, 1, 3, 1]\n",
        "sum_of_squares = 0\n",
        "\n",
        "for number in numbers:\n",
        "    square = number * number\n",
        "    sum_of_squares += square\n",
        "\n",
        "print(sum_of_squares)\n",
        ""
      ],
      "metadata": {
        "colab": {
          "base_uri": "https://localhost:8080/"
        },
        "id": "5A68j59IsQuf",
        "outputId": "be8337c1-f79b-41b7-b4d4-0853cdf7345d"
      },
      "execution_count": 7,
      "outputs": [
        {
          "output_type": "stream",
          "name": "stdout",
          "text": [
            "15\n"
          ]
        }
      ]
    },
    {
      "cell_type": "markdown",
      "source": [
        "Write a Python program using for loop that will iterate from 1 to 15. For each iteration, check if the current number is odd or even, and display the message to the screen as odd or even. Sample input: 1….15 Sample output: 1-odd 2-even …. 15-odd"
      ],
      "metadata": {
        "id": "7NP_4dOqsU4j"
      }
    },
    {
      "cell_type": "code",
      "source": [
        "for number in range(1, 16):\n",
        "    if number % 2 == 0:\n",
        "        print(f\"{number}-even\")\n",
        "    else:\n",
        "        print(f\"{number}-odd\")\n",
        ""
      ],
      "metadata": {
        "colab": {
          "base_uri": "https://localhost:8080/"
        },
        "id": "Y-IIPKmKsW0Q",
        "outputId": "a333ab61-b95d-49b4-8dfa-c1aaee01a4ff"
      },
      "execution_count": 8,
      "outputs": [
        {
          "output_type": "stream",
          "name": "stdout",
          "text": [
            "1-odd\n",
            "2-even\n",
            "3-odd\n",
            "4-even\n",
            "5-odd\n",
            "6-even\n",
            "7-odd\n",
            "8-even\n",
            "9-odd\n",
            "10-even\n",
            "11-odd\n",
            "12-even\n",
            "13-odd\n",
            "14-even\n",
            "15-odd\n"
          ]
        }
      ]
    },
    {
      "cell_type": "markdown",
      "source": [
        "Write a Python program to convert temperatures to and from Celsius Fahrenheit. [Formula: c/5=f-32/9 where c=temperature in Celsius and f= temperature in Fahrenheit.] Sample input: Temperature in Fahrenheit =41 Sample output: Temperature in Celsius =5\n"
      ],
      "metadata": {
        "id": "MQFzv39hsZwe"
      }
    },
    {
      "cell_type": "code",
      "source": [
        "\n",
        "f = float(input(\"Temperature in Fahrenheit = \"))\n",
        "\n",
        "c = (f - 32) * 5 / 9\n",
        "\n",
        "print(\"Temperature in Celsius =\", c)\n"
      ],
      "metadata": {
        "colab": {
          "base_uri": "https://localhost:8080/"
        },
        "id": "Jaq5ei0Lshbx",
        "outputId": "94113fba-9fac-4609-8b8a-de8fe84f3158"
      },
      "execution_count": 9,
      "outputs": [
        {
          "output_type": "stream",
          "name": "stdout",
          "text": [
            "Temperature in Fahrenheit = 41\n",
            "Temperature in Celsius = 5.0\n"
          ]
        }
      ]
    },
    {
      "cell_type": "markdown",
      "source": [
        "Write a Python function to calculate the factorial of a number (a nonnegative integer). The function accepts the number as an argument. Sample input: 3 Sample output: 6"
      ],
      "metadata": {
        "id": "fik7IVppsorf"
      }
    },
    {
      "cell_type": "code",
      "source": [
        "def factorial(n):\n",
        "\n",
        "    result = 1\n",
        "\n",
        "    for i in range(1, n + 1):\n",
        "        result *= i\n",
        "    return result\n",
        "\n",
        "\n",
        "num = int(input(\"Enter a nonnegative integer: \"))\n",
        "\n",
        "print(\"Factorial =\", factorial(num))"
      ],
      "metadata": {
        "colab": {
          "base_uri": "https://localhost:8080/"
        },
        "id": "oMQVt85BsrYh",
        "outputId": "1349a6f6-96ca-47b0-f262-e9a65e5ee01c"
      },
      "execution_count": 10,
      "outputs": [
        {
          "output_type": "stream",
          "name": "stdout",
          "text": [
            "Enter a nonnegative integer: 3\n",
            "Factorial = 6\n"
          ]
        }
      ]
    }
  ]
}